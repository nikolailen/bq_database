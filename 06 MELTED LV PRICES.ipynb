{
  "cells": [
    {
      "cell_type": "code",
      "execution_count": null,
      "id": "BcUyKZ2tP1zHfVbekikbSbU5",
      "metadata": {
        "colab": {
          "base_uri": "https://localhost:8080/"
        },
        "executionInfo": {
          "elapsed": 14121,
          "status": "ok",
          "timestamp": 1709893739482,
          "user": {
            "displayName": "",
            "userId": ""
          },
          "user_tz": -60
        },
        "id": "BcUyKZ2tP1zHfVbekikbSbU5",
        "outputId": "deb3f71f-a417-4c07-a177-79ee71b80e5b",
        "tags": []
      },
      "outputs": [],
      "source": [
        "from google.colab import auth, files\n",
        "from google.cloud import bigquery\n",
        "from datetime import datetime\n",
        "import pytz\n",
        "\n",
        "# Authenticate and set up the BigQuery client\n",
        "auth.authenticate_user()\n",
        "client = bigquery.Client(project='bq-rf5039')\n",
        "\n",
        "def get_latest_table_name(client, dataset_id):\n",
        "    query = f\"\"\"\n",
        "        SELECT table_name\n",
        "        FROM `{dataset_id}.INFORMATION_SCHEMA.TABLES`\n",
        "        WHERE table_type = 'BASE TABLE'\n",
        "        ORDER BY creation_time DESC\n",
        "        LIMIT 1\n",
        "    \"\"\"\n",
        "    query_job = client.query(query)\n",
        "    results = query_job.result()\n",
        "    for row in results:\n",
        "        return row.table_name\n",
        "    return None\n",
        "\n",
        "# Get the latest tables\n",
        "latest_melted_table = get_latest_table_name(client, 'bq-rf5039.MELTED')\n",
        "latest_prices_table = get_latest_table_name(client, 'bq-rf5039.PRICES')\n",
        "\n",
        "print(f\"Latest table from MELTED: {latest_melted_table}\")\n",
        "print(f\"Latest table from PRICES: {latest_prices_table}\")\n",
        "\n",
        "if latest_melted_table and latest_prices_table:\n",
        "    # Generate a unique table name based on the current time\n",
        "    paris_tz = pytz.timezone('Europe/Paris')\n",
        "    current_time = datetime.now(paris_tz).strftime(\"%Y%m%d_%H%M%S\")\n",
        "    new_table_name = f'melted_lv_prices_{current_time}'\n",
        "\n",
        "    # Create the SQL query\n",
        "    query = f\"\"\"\n",
        "        CREATE TABLE `bq-rf5039.MELTED_LV_PRICES.{new_table_name}` AS\n",
        "        SELECT\n",
        "            m.*,\n",
        "            p.product_price,\n",
        "            CASE\n",
        "                WHEN p.product_price IS NOT NULL THEN m.volume * p.product_price\n",
        "                ELSE NULL\n",
        "            END AS product_sales\n",
        "        FROM\n",
        "            `bq-rf5039.MELTED.{latest_melted_table}` m\n",
        "        LEFT JOIN (\n",
        "            SELECT *\n",
        "            FROM `bq-rf5039.PRICES.{latest_prices_table}`\n",
        "            WHERE change_tracker != 'removed'\n",
        "        ) p ON\n",
        "            m.product_type = p.product_type\n",
        "            AND m.year = p.year\n",
        "            AND m.product_type IN ('starter', 'restarter', 'alternator')\n",
        "\n",
        "    \"\"\"\n",
        "\n",
        "    # Execute the query\n",
        "    query_job = client.query(query)\n",
        "    query_job.result()  # Wait for the query to finish\n",
        "\n",
        "    print(f\"Table created: `bq-rf5039.MELTED_LV_PRICES.{new_table_name}`\")\n",
        "else:\n",
        "    print(\"Latest tables not found in MELTED or PRICES datasets.\")\n"
      ]
    }
  ],
  "metadata": {
    "colab": {
      "provenance": []
    },
    "kernelspec": {
      "display_name": "Python 3",
      "language": "python",
      "name": "python3"
    },
    "language_info": {
      "codemirror_mode": {
        "name": "ipython",
        "version": 3
      },
      "file_extension": ".py",
      "mimetype": "text/x-python",
      "name": "python",
      "nbconvert_exporter": "python",
      "pygments_lexer": "ipython3",
      "version": "3.10.10"
    }
  },
  "nbformat": 4,
  "nbformat_minor": 5
}
